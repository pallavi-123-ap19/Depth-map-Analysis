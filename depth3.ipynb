{
 "cells": [
  {
   "cell_type": "code",
   "execution_count": null,
   "id": "d965e331-fb8d-4653-94ce-71df81aa301f",
   "metadata": {},
   "outputs": [],
   "source": [
    "import cv2\n",
    "import numpy as np\n",
    "depth_map_path =\"/home/rguktongole/Downloads/c4.jpg\"\n",
    "depth_map = cv2.imread(depth_map_path)\n",
    "\n",
    "points = []\n",
    "\n",
    "def click_event(event, x, y, flags, param):\n",
    "    if event == cv2.EVENT_LBUTTONDOWN:\n",
    "        points.append((x, y))\n",
    "        cv2.circle(depth_map, (x, y), 5, (0, 255, 0), -1)\n",
    "        cv2.imshow(\"Depth Map\", depth_map)\n",
    "\n",
    "        if len(points) == 2:\n",
    "            # Get depth values at the clicked points\n",
    "            d1 = gray[points[0][1], points[0][0]]\n",
    "            d2 = gray[points[1][1], points[1][0]]\n",
    "            print(f\"Pixel Depth Values: Point 1 = {d1}, Point 2 = {d2}\")\n",
    "\n",
    "            # Assuming 0–255 maps to 0–10 cm (change if you have a different scale)\n",
    "            max_depth_cm = 10.0\n",
    "            real_d1 = (d1 / 255.0) * max_depth_cm\n",
    "            real_d2 = (d2 / 255.0) * max_depth_cm\n",
    "            depth_difference = abs(real_d1 - real_d2)\n",
    "\n",
    "            print(f\"Estimated Depth Difference: {depth_difference:.2f} cm\")\n",
    "\n",
    "# --- Display image and wait for 2 clicks ---\n",
    "cv2.imshow(\"Depth Map\", depth_map)\n",
    "cv2.setMouseCallback(\"Depth Map\", click_event)\n",
    "cv2.waitKey(0)\n",
    "cv2.destroyAllWindows()\n"
   ]
  },
  {
   "cell_type": "code",
   "execution_count": null,
   "id": "6dec05e8-c869-4291-a5f0-3200997910b8",
   "metadata": {},
   "outputs": [],
   "source": [
    "import cv2\n",
    "import numpy as np\n",
    "depth_map_path =\"/home/rguktongole/Downloads/c4.jpg\"\n",
    "depth_map = cv2.imread(depth_map_path)\n",
    "\n",
    "points = []\n",
    "\n",
    "def click_event(event, x, y, flags, param):\n",
    "    if event == cv2.EVENT_LBUTTONDOWN:\n",
    "        points.append((x, y))\n",
    "        cv2.circle(depth_map, (x, y), 5, (0, 255, 0), -1)\n",
    "        cv2.imshow(\"Depth Map\", depth_map)\n",
    "\n",
    "        if len(points) == 2:\n",
    "            # Get depth values at the clicked points\n",
    "            d1 = gray[points[0][1], points[0][0]]\n",
    "            d2 = gray[points[1][1], points[1][0]]\n",
    "            print(f\"Pixel Depth Values: Point 1 = {d1}, Point 2 = {d2}\")\n",
    "\n",
    "            # Assuming 0–255 maps to 0–10 cm (change if you have a different scale)\n",
    "            max_depth_cm = 10.0\n",
    "            real_d1 = (d1 / 255.0) * max_depth_cm\n",
    "            real_d2 = (d2 / 255.0) * max_depth_cm\n",
    "            depth_difference = abs(real_d1 - real_d2)\n",
    "\n",
    "            print(f\"Estimated Depth Difference: {depth_difference:.2f} cm\")\n",
    "\n",
    "# --- Display image and wait for 2 clicks ---\n",
    "cv2.imshow(\"Depth Map\", depth_map)\n",
    "cv2.setMouseCallback(\"Depth Map\", click_event)\n",
    "cv2.waitKey(0)\n",
    "cv2.destroyAllWindows()\n"
   ]
  },
  {
   "cell_type": "code",
   "execution_count": null,
   "id": "84f1f927-6279-4d69-b400-f6a9b164803c",
   "metadata": {},
   "outputs": [],
   "source": []
  },
  {
   "cell_type": "code",
   "execution_count": null,
   "id": "e3aff9f4-fe36-442a-afd0-42a24c9ec58f",
   "metadata": {},
   "outputs": [],
   "source": []
  }
 ],
 "metadata": {
  "kernelspec": {
   "display_name": "Python 3 (ipykernel)",
   "language": "python",
   "name": "python3"
  },
  "language_info": {
   "codemirror_mode": {
    "name": "ipython",
    "version": 3
   },
   "file_extension": ".py",
   "mimetype": "text/x-python",
   "name": "python",
   "nbconvert_exporter": "python",
   "pygments_lexer": "ipython3",
   "version": "3.8.10"
  }
 },
 "nbformat": 4,
 "nbformat_minor": 5
}
